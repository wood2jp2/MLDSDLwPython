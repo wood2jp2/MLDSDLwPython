{
 "cells": [
  {
   "cell_type": "markdown",
   "metadata": {},
   "source": [
    "# Mean, Median, Mode, and introducing NumPy"
   ]
  },
  {
   "cell_type": "markdown",
   "metadata": {},
   "source": [
    "## Mean vs. Median"
   ]
  },
  {
   "cell_type": "markdown",
   "metadata": {},
   "source": [
    "Let's create some fake income data, centered around 27,000 with a normal distribution and standard deviation of 15,000, with 10,000 data points. (We'll discuss those terms more later, if you're not familiar with them.)\n",
    "\n",
    "Then, compute the mean (average) - it should be close to 27,000:"
   ]
  },
  {
   "cell_type": "code",
   "execution_count": 1,
   "metadata": {},
   "outputs": [
    {
     "data": {
      "text/plain": [
       "26565.536604780635"
      ]
     },
     "execution_count": 1,
     "metadata": {},
     "output_type": "execute_result"
    }
   ],
   "source": [
    "import numpy as np\n",
    "\n",
    "incomes = np.random.normal(27000, 15000, 10000)\n",
    "np.mean(incomes)"
   ]
  },
  {
   "cell_type": "markdown",
   "metadata": {},
   "source": [
    "We can segment the income data into 50 buckets, and plot it as a histogram:"
   ]
  },
  {
   "cell_type": "code",
   "execution_count": 2,
   "metadata": {},
   "outputs": [
    {
     "data": {
      "image/png": "[encoded data removed]",
      "text/plain": [
       "<Figure size 432x288 with 1 Axes>"
      ]
     },
     "metadata": {
      "needs_background": "light"
     },
     "output_type": "display_data"
    }
   ],
   "source": [
    "%matplotlib inline\n",
    "import matplotlib.pyplot as plt\n",
    "plt.hist(incomes, 50)\n",
    "plt.show()"
   ]
  },
  {
   "cell_type": "markdown",
   "metadata": {},
   "source": [
    "Now compute the median - since we have a nice, even distribution it too should be close to 27,000:"
   ]
  },
  {
   "cell_type": "code",
   "execution_count": 3,
   "metadata": {},
   "outputs": [
    {
     "data": {
      "text/plain": [
       "27092.39320043316"
      ]
     },
     "execution_count": 3,
     "metadata": {},
     "output_type": "execute_result"
    }
   ],
   "source": [
    "np.median(incomes)"
   ]
  },
  {
   "cell_type": "markdown",
   "metadata": {},
   "source": [
    "Now we'll add Jeff Bezos into the mix. Darn income inequality!"
   ]
  },
  {
   "cell_type": "code",
   "execution_count": 4,
   "metadata": {},
   "outputs": [],
   "source": [
    "incomes = np.append(incomes, [1000000000])"
   ]
  },
  {
   "cell_type": "markdown",
   "metadata": {},
   "source": [
    "The median won't change much, but the mean does:"
   ]
  },
  {
   "cell_type": "code",
   "execution_count": 5,
   "metadata": {},
   "outputs": [
    {
     "data": {
      "text/plain": [
       "27092.571036571815"
      ]
     },
     "execution_count": 5,
     "metadata": {},
     "output_type": "execute_result"
    }
   ],
   "source": [
    "np.median(incomes)"
   ]
  },
  {
   "cell_type": "code",
   "execution_count": 6,
   "metadata": {},
   "outputs": [
    {
     "data": {
      "text/plain": [
       "126921.0284963053"
      ]
     },
     "execution_count": 6,
     "metadata": {},
     "output_type": "execute_result"
    }
   ],
   "source": [
    "np.mean(incomes)"
   ]
  },
  {
   "cell_type": "markdown",
   "metadata": {},
   "source": [
    "## Mode"
   ]
  },
  {
   "cell_type": "markdown",
   "metadata": {},
   "source": [
    "Next, let's generate some fake age data for 500 people:"
   ]
  },
  {
   "cell_type": "code",
   "execution_count": 2,
   "metadata": {},
   "outputs": [
    {
     "data": {
      "text/plain": [
       "array([88, 77, 61, 33, 59, 64, 51, 39, 52, 19, 85, 77, 20, 54, 78, 76, 55,\n",
       "       41, 30, 44, 33, 77, 81, 75, 75, 33, 40, 71, 34, 55, 80, 42, 61, 63,\n",
       "       67, 73, 40, 48, 29, 66, 39, 19, 53, 54, 80, 64, 29, 70, 68, 21, 66,\n",
       "       35, 85, 33, 63, 71, 77, 18, 32, 63, 76, 67, 32, 83, 58, 81, 23, 86,\n",
       "       45, 54, 61, 24, 21, 26, 62, 80, 42, 24, 20, 20, 59, 66, 66, 45, 58,\n",
       "       37, 75, 19, 25, 59, 77, 55, 32, 45, 74, 20, 85, 50, 75, 88, 47, 74,\n",
       "       33, 59, 20, 26, 24, 32, 35, 75, 73, 79, 35, 55, 84, 41, 74, 45, 64,\n",
       "       18, 76, 85, 45, 35, 55, 70, 58, 53, 27, 47, 47, 84, 70, 50, 33, 79,\n",
       "       73, 22, 59, 48, 67, 56, 74, 33, 19, 36, 31, 33, 58, 26, 28, 64, 56,\n",
       "       32, 89, 54, 89, 26, 76, 28, 29, 29, 89, 78, 42, 39, 37, 41, 32, 84,\n",
       "       44, 47, 78, 76, 68, 50, 87, 88, 70, 60, 44, 50, 82, 65, 61, 80, 41,\n",
       "       21, 87, 89, 87, 52, 27, 62, 59, 70, 55, 67, 63, 22, 19, 40, 51, 78,\n",
       "       24, 21, 57, 26, 55, 45, 20, 85, 64, 72, 59, 53, 62, 54, 22, 84, 43,\n",
       "       77, 29, 53, 51, 81, 39, 47, 71, 61, 42, 29, 19, 30, 84, 85, 30, 62,\n",
       "       53, 58, 51, 36, 47, 21, 71, 32, 82, 32, 25, 32, 50, 89, 86, 69, 25,\n",
       "       36, 68, 88, 31, 89, 79, 77, 84, 58, 71, 88, 28, 25, 85, 23, 37, 36,\n",
       "       33, 33, 47, 37, 82, 79, 45, 72, 30, 89, 31, 29, 63, 82, 48, 87, 33,\n",
       "       75, 29, 35, 77, 59, 64, 73, 27, 59, 60, 37, 74, 21, 31, 28, 23, 26,\n",
       "       21, 60, 58, 40, 85, 59, 38, 68, 48, 63, 86, 86, 58, 83, 44, 23, 41,\n",
       "       81, 41, 39, 79, 77, 26, 72, 77, 53, 56, 75, 21, 53, 83, 34, 19, 86,\n",
       "       34, 77, 88, 32, 47, 61, 38, 64, 74, 43, 19, 27, 75, 74, 53, 37, 43,\n",
       "       86, 26, 43, 69, 62, 59, 45, 67, 23, 49, 87, 36, 49, 33, 19, 57, 31,\n",
       "       79, 84, 55, 82, 88, 23, 31, 68, 75, 45, 82, 61, 62, 70, 18, 59, 60,\n",
       "       87, 37, 28, 22, 54, 32, 26, 29, 77, 44, 75, 70, 69, 54, 50, 43, 37,\n",
       "       28, 82, 24, 34, 20, 23, 73, 27, 75, 58, 20, 24, 37, 49, 82, 45, 80,\n",
       "       35, 79, 32, 67, 38, 18, 38, 54, 70, 28, 84, 56, 25, 29, 64, 87, 20,\n",
       "       44, 37, 63, 80, 83, 72, 63, 30, 51, 27, 68, 26, 68, 68, 82, 45, 85,\n",
       "       87, 71, 52, 70, 21, 32, 67, 25, 36, 36, 83, 73, 84, 75, 82, 44, 74,\n",
       "       43, 87, 60, 37, 21, 36, 27, 87, 50, 85, 89, 33, 33, 28, 66, 31, 34,\n",
       "       88, 20, 79, 65, 30, 22, 46])"
      ]
     },
     "execution_count": 2,
     "metadata": {},
     "output_type": "execute_result"
    }
   ],
   "source": [
    "ages = np.random.randint(18, high=90, size=500)\n",
    "ages"
   ]
  },
  {
   "cell_type": "code",
   "execution_count": 3,
   "metadata": {},
   "outputs": [
    {
     "data": {
      "text/plain": [
       "ModeResult(mode=array([33]), count=array([14]))"
      ]
     },
     "execution_count": 3,
     "metadata": {},
     "output_type": "execute_result"
    }
   ],
   "source": [
    "from scipy import stats\n",
    "stats.mode(ages)"
   ]
  },
  {
   "cell_type": "code",
   "execution_count": null,
   "metadata": {},
   "outputs": [],
   "source": []
  }
 ],
 "metadata": {
  "kernelspec": {
   "display_name": "Python 3",
   "language": "python",
   "name": "python3"
  },
  "language_info": {
   "codemirror_mode": {
    "name": "ipython",
    "version": 3
   },
   "file_extension": ".py",
   "mimetype": "text/x-python",
   "name": "python",
   "nbconvert_exporter": "python",
   "pygments_lexer": "ipython3",
   "version": "3.7.3"
  }
 },
 "nbformat": 4,
 "nbformat_minor": 1
}
